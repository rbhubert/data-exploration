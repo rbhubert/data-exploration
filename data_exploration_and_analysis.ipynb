{
 "cells": [
  {
   "cell_type": "markdown",
   "id": "9671d81f",
   "metadata": {},
   "source": [
    "# Data exploration and analysis: GooglePlayStoreApps\n",
    "\n",
    "With a dataset with information from the applications in the Google Play Store, the aim is to obtain a model capable of predicting the rating for applications not yet rated by users.\n",
    "Since the rating can be a real number between 1 and 5, this will be considered a regression problem.\n",
    "\n",
    "There are two datasets:\n",
    "- one with the data of the apps in the playstore, including information about the applications (such as category, rating and number of reviews, among others);\n",
    "- another with the reviews made by users, including the text and the value of the sentiment/polarity identified in those comments.\n",
    "\n",
    "To create the model, a series of tasks will first be carried out:\n",
    "- explore the data and relationships between different features, identifying missing values and outliers;\n",
    "- creation of a pipeline with the tasks to perform prior to model training;\n",
    "- creation of various models, training and testing;\n",
    "- use of metrics to select the final model."
   ]
  },
  {
   "cell_type": "markdown",
   "id": "2d230314",
   "metadata": {},
   "source": [
    "# Tabla de contenidos\n",
    "\n",
    "1. [Exploratory data analysis](#eda)\n",
    "    1. [Application data](#dataapps)\n",
    "    2. [Eliminate duplicate rows](#removeduplicates)\n",
    "    3. [Dealing with missing values](#missingvalues)\n",
    "    4. [Analysis of numerical features](#numericfeatures)\n",
    "    5. [Analysis of categorical features](#categoricalfeatures) "
   ]
  },
  {
   "cell_type": "code",
   "execution_count": null,
   "id": "89c0e510",
   "metadata": {},
   "outputs": [],
   "source": [
    "# Imports\n",
    "\n",
    "import pandas as pd\n",
    "import numpy as np\n",
    "\n",
    "import seaborn as sns\n",
    "import matplotlib.pyplot as plt"
   ]
  },
  {
   "cell_type": "code",
   "execution_count": null,
   "id": "017de039",
   "metadata": {},
   "outputs": [],
   "source": [
    "# Reading the files.\n",
    "\n",
    "# -- Data about apps.\n",
    "data_apps = pd.read_csv(\"data/googleplaystore.csv\")\n",
    "\n",
    "# -- Reviews made by users and sentiment analysis values.\n",
    "data_reviews = pd.read_csv(\"data/googleplaystore_user_reviews.csv\")"
   ]
  },
  {
   "cell_type": "markdown",
   "id": "1945cd49",
   "metadata": {},
   "source": [
    "#### Regarding the reviews dataset\n",
    "\n",
    "We are going to concentrate mainly on the data of the apps (data_apps) to try to predict the rating. While the data about reviews (the polarity of mixed sentiments in those reviews) might help us predict a Rating, for now we're going to use only app values to do so.\n",
    "\n",
    "Especially since we only have data from 1074 apps, compared to the 8182 apps in the final dataset (removed duplicate rows and also apps without Rating) => reviews for less than 15% of the apps."
   ]
  },
  {
   "cell_type": "code",
   "execution_count": null,
   "id": "57dbff1e",
   "metadata": {},
   "outputs": [],
   "source": [
    "## Information about de reviews\n",
    "data_reviews"
   ]
  },
  {
   "cell_type": "code",
   "execution_count": null,
   "id": "b59cc5c7",
   "metadata": {},
   "outputs": [],
   "source": [
    "data_reviews.groupby(\"App\").count()"
   ]
  },
  {
   "cell_type": "markdown",
   "id": "6f8c5390",
   "metadata": {},
   "source": [
    "# Exploratory data analysis <a name=\"eda\"></a>\n",
    "\n",
    "Before creating the model, we will analyze the data. This involves looking at the values they can take, recategorizing the data if necessary, and looking at missing values and outliers and dealing with them in some way."
   ]
  },
  {
   "cell_type": "markdown",
   "id": "bbb3df06",
   "metadata": {},
   "source": [
    "## Application data <a name=\"dataapps\"></a>\n",
    "\n",
    "In this dataset we have the following features:\n",
    "- App: indicates the name of the application.\n",
    "- Category: the category of the app (Art and design, Family, Sports, etc.).\n",
    "- Rating (variable to predict): indicates the rating of the application, a real value (with a decimal) that can range from 1 to 5.\n",
    "- Reviews: the number of reviews that the app has.\n",
    "- Size: the size of the application.\n",
    "- Installs: the number of installations of the apps.\n",
    "- Type: if it is free or paid.\n",
    "- Price: the price.\n",
    "- Content Rating: the content rating (suitable for everyone, over 18, etc).\n",
    "- Genres: the genres of the application.\n",
    "- Last Updated: when it was last updated.\n",
    "- Current Ver: the version of the application.\n",
    "- Android Ver: the version of android in which it can be used."
   ]
  },
  {
   "cell_type": "code",
   "execution_count": null,
   "id": "a13d3c62",
   "metadata": {},
   "outputs": [],
   "source": [
    "data_apps"
   ]
  },
  {
   "cell_type": "markdown",
   "id": "45c8dd97",
   "metadata": {},
   "source": [
    "Let's see the information about the type of the features.\n",
    "We have 10842 rows. Most features are type Object. Rating is a float, and Reviews is an integer. Other features that could be numeric are:\n",
    "- Size\n",
    "- Installs\n",
    "- Price"
   ]
  },
  {
   "cell_type": "code",
   "execution_count": null,
   "id": "ab64c55b",
   "metadata": {},
   "outputs": [],
   "source": [
    "data_apps.info()"
   ]
  },
  {
   "cell_type": "markdown",
   "id": "4fb68712",
   "metadata": {},
   "source": [
    "We can also see that we have some missing values in some columns. We will deal with these missing values later."
   ]
  },
  {
   "cell_type": "markdown",
   "id": "5f0e0f81",
   "metadata": {},
   "source": [
    "## Removing duplicate rows <a name=\"removeduplicates\"></a>\n",
    "\n",
    "Before we start dealing with missing values and looking at features, let's make sure we don't have duplicate rows for apps.\n",
    "\n",
    "Number of duplicate rows: 1181"
   ]
  },
  {
   "cell_type": "code",
   "execution_count": null,
   "id": "15bbc222",
   "metadata": {},
   "outputs": [],
   "source": [
    "# Duplicated rows for app name => 1181\n",
    "data_apps[data_apps.duplicated(['App'])]"
   ]
  },
  {
   "cell_type": "markdown",
   "id": "df7b65c7",
   "metadata": {},
   "source": [
    "Example with ROBLOX.\n",
    "We can see that the number of reviews is the value that is changing => regarding that, we can keep the highest.\n",
    "It also changes the category (!). Let's see if this happens for many apps."
   ]
  },
  {
   "cell_type": "code",
   "execution_count": null,
   "id": "a50ecf34",
   "metadata": {},
   "outputs": [],
   "source": [
    "data_apps[data_apps[\"App\"] == \"ROBLOX\"].sort_values(by=\"Reviews\", ascending=False)"
   ]
  },
  {
   "cell_type": "markdown",
   "id": "cdd0bb6f",
   "metadata": {},
   "source": [
    "How many apps have multiple categories? => 85.\n",
    "\n",
    "Since there are just a few, in this case we are going to choose to keep the last category that was assigned to the app.\n",
    "We are left with the most up-to-date entry regarding \"Reviews\"."
   ]
  },
  {
   "cell_type": "code",
   "execution_count": null,
   "id": "323a12c3",
   "metadata": {},
   "outputs": [],
   "source": [
    "temp = data_apps.groupby([\"App\"])[\"Category\"].unique()\n",
    "temp[temp.str.len() > 1]"
   ]
  },
  {
   "cell_type": "code",
   "execution_count": null,
   "id": "cb9fc5d4",
   "metadata": {},
   "outputs": [],
   "source": [
    "data_apps = data_apps.sort_values('Reviews', ascending=False).drop_duplicates('App').sort_index()\n",
    "\n",
    "# Example\n",
    "data_apps[data_apps[\"App\"] == \"ROBLOX\"]"
   ]
  },
  {
   "cell_type": "markdown",
   "id": "57cbf7bb",
   "metadata": {},
   "source": [
    "### Dealing with missing values <a name=\"missingvalues\"></a>\n",
    " \n",
    "We are now going to deal with the missing values in the features. We first calculate the sum of the missing values in each feature, ordered in descending order."
   ]
  },
  {
   "cell_type": "code",
   "execution_count": null,
   "id": "dedb52f8",
   "metadata": {},
   "outputs": [],
   "source": [
    "data_apps.isna().sum().sort_values(ascending=False)"
   ]
  },
  {
   "cell_type": "markdown",
   "id": "164a1bc8",
   "metadata": {},
   "source": [
    "We have quite a few missing values in Rating, which is the variable to predict, and a few others in Current Ver, Android Ver, Category, Type and Genres. Let's observe and try to solve these missing values.\n",
    "\n",
    "Let's start with those that only have one missing value: Category, Type, and Genres."
   ]
  },
  {
   "cell_type": "code",
   "execution_count": null,
   "id": "57b7242c",
   "metadata": {},
   "outputs": [],
   "source": [
    "# Let's see the row with missing value in Type\n",
    "data_apps[data_apps[\"Type\"].isna()]"
   ]
  },
  {
   "cell_type": "code",
   "execution_count": null,
   "id": "fdb65339",
   "metadata": {},
   "outputs": [],
   "source": [
    "# What kind of values can Type have? ==> \"Free\" or \"Paid\".\n",
    "data_apps[\"Type\"].unique()"
   ]
  },
  {
   "cell_type": "markdown",
   "id": "e555183b",
   "metadata": {},
   "source": [
    "Since Type can only take the values \"Free\" or \"Paid\", and the price of that app is 0, we can fill in the missing value as \"Free\"."
   ]
  },
  {
   "cell_type": "code",
   "execution_count": null,
   "id": "2ef6b7ba",
   "metadata": {},
   "outputs": [],
   "source": [
    "# Updating the value of the row 9148, column 6 (Type) por Free\n",
    "data_apps.iloc[[9148],[6]] = \"Free\"\n",
    "\n",
    "# data_apps[data_apps[\"Type\"].isna()] # To check that we don't have that values"
   ]
  },
  {
   "cell_type": "markdown",
   "id": "329e4693",
   "metadata": {},
   "source": [
    "Now let's look at the row that has a missing value in Category.\n",
    "Looking at the row, we can also see that it has a missing value for Genres.\n",
    "\n",
    "A possible solution could be to delete this row. But first let's see what kind of categories and genres exist, to see if there is any category \"Others\" or something like that."
   ]
  },
  {
   "cell_type": "code",
   "execution_count": null,
   "id": "562a2888",
   "metadata": {},
   "outputs": [],
   "source": [
    "data_apps[data_apps[\"Category\"].isna()]"
   ]
  },
  {
   "cell_type": "code",
   "execution_count": null,
   "id": "4584660e",
   "metadata": {},
   "outputs": [],
   "source": [
    "# Possible values for Category\n",
    "\n",
    "data_apps[\"Category\"].unique()"
   ]
  },
  {
   "cell_type": "code",
   "execution_count": null,
   "id": "91ba46a0",
   "metadata": {},
   "outputs": [],
   "source": [
    "data_apps[\"Category\"].value_counts()"
   ]
  },
  {
   "cell_type": "markdown",
   "id": "f248f17b",
   "metadata": {},
   "source": [
    "Let's look at the possible values for Genres. These seem to be overlapping quite a bit with the Category. You can see that all the values for Category appear as Genres. There are also new values for Genres that seem to indicate subcategories (for example, different types of games)."
   ]
  },
  {
   "cell_type": "code",
   "execution_count": null,
   "id": "f80efe52",
   "metadata": {},
   "outputs": [],
   "source": [
    "data_apps[\"Genres\"].unique()"
   ]
  },
  {
   "cell_type": "markdown",
   "id": "6437f095",
   "metadata": {},
   "source": [
    "There doesn't seem to be a category like \"Other\". Let's delete this row."
   ]
  },
  {
   "cell_type": "code",
   "execution_count": null,
   "id": "21c36518",
   "metadata": {},
   "outputs": [],
   "source": [
    "# Removing the row with missing value in Category and Genres\n",
    "data_apps = data_apps.drop([10472])"
   ]
  },
  {
   "cell_type": "markdown",
   "id": "8912375e",
   "metadata": {},
   "source": [
    "Let's see the rows with missing values in Android View, and the possible values that feature can take."
   ]
  },
  {
   "cell_type": "code",
   "execution_count": null,
   "id": "242ba735",
   "metadata": {},
   "outputs": [],
   "source": [
    "data_apps[data_apps[\"Android Ver\"].isna()]"
   ]
  },
  {
   "cell_type": "code",
   "execution_count": null,
   "id": "bbf63292",
   "metadata": {},
   "outputs": [],
   "source": [
    "data_apps[\"Android Ver\"].unique()"
   ]
  },
  {
   "cell_type": "markdown",
   "id": "7276c967",
   "metadata": {},
   "source": [
    "For simplicity, let's fill in the missing values with the value \"Varies with device\"."
   ]
  },
  {
   "cell_type": "code",
   "execution_count": null,
   "id": "30ab45b7",
   "metadata": {},
   "outputs": [],
   "source": [
    "data_apps[\"Android Ver\"] = data_apps[\"Android Ver\"].fillna(value=\"Varies with device\")"
   ]
  },
  {
   "cell_type": "markdown",
   "id": "c5e9b8d3",
   "metadata": {},
   "source": [
    "Let's look at the rows with missing values in Current Ver, and also the possible values for Current Ver. There is also a \"Varies with device\" value here. For simplicity, we also fill in these missing values with \"Varies with device\"."
   ]
  },
  {
   "cell_type": "code",
   "execution_count": null,
   "id": "16b93708",
   "metadata": {},
   "outputs": [],
   "source": [
    "data_apps[data_apps[\"Current Ver\"].isna()]"
   ]
  },
  {
   "cell_type": "code",
   "execution_count": null,
   "id": "4f2c8f21",
   "metadata": {},
   "outputs": [],
   "source": [
    "data_apps[\"Current Ver\"].value_counts()"
   ]
  },
  {
   "cell_type": "code",
   "execution_count": null,
   "id": "954ea78a",
   "metadata": {},
   "outputs": [],
   "source": [
    "data_apps[\"Current Ver\"] = data_apps[\"Current Ver\"].fillna(value=\"Varies with device\")"
   ]
  },
  {
   "cell_type": "markdown",
   "id": "d1521243",
   "metadata": {},
   "source": [
    "We still need to see what happens to the missing values for our variable to predict, \"Rating\". Let's see how many Reviews are associated with it.\n",
    "- Rows that lack rating: 1474\n",
    "- Rows that lack rating and have some review: 878\n",
    "- Rows that lack rating and have no reviews: 596\n",
    "\n",
    "Not all of them have reviews to be able to use those values of the reviews (from the other dataset) in order to predict some Rating."
   ]
  },
  {
   "cell_type": "code",
   "execution_count": null,
   "id": "41758981",
   "metadata": {},
   "outputs": [],
   "source": [
    "# rows a las que les falta rating: 1474 \n",
    "# data_apps[data_apps[\"Rating\"].isna()] \n",
    "\n",
    "# rows a las que les falta rating y tienen algún review: 878 \n",
    "# data_apps[(data_apps[\"Rating\"].isna()) & (data_apps[\"Reviews\"] > 0)] \n",
    "\n",
    "# rows a las que les falta rating y no tienen reviews: 596  \n",
    "# data_apps[(data_apps[\"Rating\"].isna()) & (data_apps[\"Reviews\"] == 0)] "
   ]
  },
  {
   "cell_type": "markdown",
   "id": "19f634be",
   "metadata": {},
   "source": [
    "In this case we have two options:\n",
    "- delete rows;\n",
    "- use some Imputer to complete the data (KNNImputer, for example) => taking into account what this means (completing the missing data using the nearest neighbors).\n",
    "\n",
    "Let's try both approaches and compare the results."
   ]
  },
  {
   "cell_type": "markdown",
   "id": "681e186a",
   "metadata": {},
   "source": [
    "## Analysis of numeric features <a name=\"numericfeatures\"></a>\n",
    "\n",
    "Now that we've dealt with missing values, let's move on to the analysis of numerical features:\n",
    "- Rating\n",
    "- Reviews\n",
    "- Size\n",
    "- Installs\n",
    "- Price\n",
    "\n",
    "This analysis also implies recategorization in the dataset, since many of these were type Object and must be converted to numerical.\n",
    "\n",
    "Let's start by looking at how the Rating values behave. We see that Rating has average values of 4.4, and most of the apps have a rating greater than 3.3. We have few examples for apps with poor rating."
   ]
  },
  {
   "cell_type": "code",
   "execution_count": null,
   "id": "afb1ec04",
   "metadata": {},
   "outputs": [],
   "source": [
    "fig, axes = plt.subplots(2,1, figsize=(20,6));\n",
    "sns.histplot(data=data_apps, x=\"Rating\", kde=True, ax=axes[0])\n",
    "sns.boxplot(data=data_apps, x=\"Rating\", ax=axes[1])"
   ]
  },
  {
   "cell_type": "code",
   "execution_count": null,
   "id": "5d76d8d4",
   "metadata": {},
   "outputs": [],
   "source": [
    "# data_apps[\"Rating\"].median()\n",
    "data_apps[\"Rating\"].describe()"
   ]
  },
  {
   "cell_type": "markdown",
   "id": "2b572934",
   "metadata": {},
   "source": [
    "Let's see if there is a relationship between the number of reviews and the rating. The graph seems to indicate that apps with a rating between 4 and 4.7 have a much higher number of reviews; kind of follows the same distribution as Rating."
   ]
  },
  {
   "cell_type": "code",
   "execution_count": null,
   "id": "c29fcaca",
   "metadata": {},
   "outputs": [],
   "source": [
    "plt.figure(figsize=(20,6), dpi=150);\n",
    "sns.barplot(data=data_apps, x=\"Rating\", y=\"Reviews\")"
   ]
  },
  {
   "cell_type": "markdown",
   "id": "530b3ba9",
   "metadata": {},
   "source": [
    "Let's take a look at the reviews. In the first plot we can see the boxplot for all the values, and we can observe some outliers, some apps with a very high number of reviews. Most have much less."
   ]
  },
  {
   "cell_type": "code",
   "execution_count": null,
   "id": "9d3603b0",
   "metadata": {},
   "outputs": [],
   "source": [
    "fig, axes = plt.subplots(2,1, figsize=(20,6), dpi=150)\n",
    "sns.boxplot(data=data_apps, x=\"Reviews\", ax=axes[0])\n",
    "sns.boxplot(data=data_apps, x=\"Reviews\", ax=axes[1])\n",
    "plt.xlim(-5000, 500000)"
   ]
  },
  {
   "cell_type": "markdown",
   "id": "a302c91a",
   "metadata": {},
   "source": [
    "Here we can see those apps with many reviews, such as Facebook, Whatasapp, Instagram. In this case, our outliers in Reviews are well-known and popularly used Apps. However, they represent phenomena that can happen with some apps, so we're not going to remove them from the dataset.\n",
    "\n",
    "Perhaps we can try retraining the models without information about these apps, and evaluate the differences."
   ]
  },
  {
   "cell_type": "code",
   "execution_count": null,
   "id": "705eaf57",
   "metadata": {},
   "outputs": [],
   "source": [
    "data_apps.sort_values(by=\"Reviews\", ascending=False).head(5)"
   ]
  },
  {
   "cell_type": "markdown",
   "id": "975dfcc0",
   "metadata": {},
   "source": [
    "For the feature Size we have a series of values in MB (M) and kB (k), and many entries with \"Varies with device\".\n",
    "To convert it into a numeric variable, we are going to keep only the MB, doing a conversion for those in kB.\n",
    "The rows with value \"Varies with device\" will be completed with the mean size."
   ]
  },
  {
   "cell_type": "code",
   "execution_count": null,
   "id": "b9f1112c",
   "metadata": {},
   "outputs": [],
   "source": [
    "data_apps[\"Size\"].value_counts()\n",
    "#data_apps[\"Size\"].unique()"
   ]
  },
  {
   "cell_type": "code",
   "execution_count": null,
   "id": "b829b9af",
   "metadata": {},
   "outputs": [],
   "source": [
    "# Function to obtain a numerical value for the feature Size.\n",
    "# If it has a \"M\", we keep it that way.\n",
    "# If it has a \"k\", we convert it to MB.\n",
    "# If the value is \"Varies with device\", we return np.NaN to later fill it with the mean size.\n",
    "def from_kb_to_mb(size):\n",
    "    if \"M\" in size:\n",
    "        return float(size[:-1]) # we skip last char => M\n",
    "    if \"k\" in size:\n",
    "        return round(float(size[:-1]) / 1024) # round => to have only 1 decimal, just as M has\n",
    "    \n",
    "    return np.NaN"
   ]
  },
  {
   "cell_type": "code",
   "execution_count": null,
   "id": "fd491448",
   "metadata": {},
   "outputs": [],
   "source": [
    "data_apps[\"Size\"] = data_apps[\"Size\"].map(from_kb_to_mb)\n",
    "\n",
    "mean_size = round(data_apps[\"Size\"].mean(), 1)\n",
    "data_apps[\"Size\"] = data_apps[\"Size\"].fillna(value=mean_size)"
   ]
  },
  {
   "cell_type": "markdown",
   "id": "167c3855",
   "metadata": {},
   "source": [
    "Now that the feature is numeric, let's look at a boxplot. Most apps are less than 50MB in size."
   ]
  },
  {
   "cell_type": "code",
   "execution_count": null,
   "id": "bde417a0",
   "metadata": {},
   "outputs": [],
   "source": [
    "sns.boxplot(data=data_apps, x=\"Size\")"
   ]
  },
  {
   "cell_type": "markdown",
   "id": "42ea9a67",
   "metadata": {},
   "source": [
    "Let's see if there is a relationship between Size and Rating. No trend or clear relationship between the two is observed."
   ]
  },
  {
   "cell_type": "code",
   "execution_count": null,
   "id": "e4ae69be",
   "metadata": {},
   "outputs": [],
   "source": [
    "plt.figure(figsize=(20,6), dpi=150);\n",
    "sns.barplot(data=data_apps, x=\"Rating\", y=\"Size\")"
   ]
  },
  {
   "cell_type": "markdown",
   "id": "889906d2",
   "metadata": {},
   "source": [
    "Let's now analyze the \"Installs\" feature. It has a series of categorical values (more than 10000 installs, etc). Since there is an order between them, we are going to change it to numerical values, removing the \"+\" from all of them."
   ]
  },
  {
   "cell_type": "code",
   "execution_count": null,
   "id": "576c7d77",
   "metadata": {},
   "outputs": [],
   "source": [
    "data_apps[\"Installs\"].value_counts()"
   ]
  },
  {
   "cell_type": "code",
   "execution_count": null,
   "id": "54e350e7",
   "metadata": {},
   "outputs": [],
   "source": [
    "# Function to return the value of \"installs\" as numerical value\n",
    "def installs_to_num(installs):\n",
    "    if \"+\" in installs:\n",
    "        installs = installs[:-1]\n",
    "    installs = installs.replace(\",\", \"\")\n",
    "    return int(installs)\n",
    "\n",
    "data_apps[\"Installs\"] = data_apps[\"Installs\"].map(installs_to_num)"
   ]
  },
  {
   "cell_type": "markdown",
   "id": "933dd280",
   "metadata": {},
   "source": [
    "Let's take a look at how Installs behaves. Here we also have some outliers with a large number of installs. Possibly the same thing that happens with reviews for very popular apps like Facebook or Instagram."
   ]
  },
  {
   "cell_type": "code",
   "execution_count": null,
   "id": "aa2b0eb9",
   "metadata": {},
   "outputs": [],
   "source": [
    "plt.figure(figsize=(20,6), dpi=150);\n",
    "sns.boxplot(data=data_apps, x=\"Installs\")"
   ]
  },
  {
   "cell_type": "code",
   "execution_count": null,
   "id": "73096e39",
   "metadata": {},
   "outputs": [],
   "source": [
    "# data_apps.sort_values(by=\"Installs\", ascending=False).head(5)\n",
    "# data_apps[\"Installs\"].value_counts()\n",
    "\n",
    "sns.countplot(data=data_apps, x=\"Installs\")\n",
    "plt.xticks(rotation=90);"
   ]
  },
  {
   "cell_type": "markdown",
   "id": "c6d14c73",
   "metadata": {},
   "source": [
    "Let's observe the relationship between Installs and Rating ==> there is a growing trend, the more installations, the more rating (with some exceptions with few installations)."
   ]
  },
  {
   "cell_type": "code",
   "execution_count": null,
   "id": "9cdf061e",
   "metadata": {},
   "outputs": [],
   "source": [
    "plt.figure(figsize=(20,6), dpi=150);\n",
    "sns.barplot(data=data_apps, x=\"Installs\", y=\"Rating\")\n",
    "plt.xticks(rotation=45);"
   ]
  },
  {
   "cell_type": "markdown",
   "id": "3a0a9ac4",
   "metadata": {},
   "source": [
    "Now let's see what happens with the \"Price\" feature. Here the \"$\" symbol is used, which makes it impossible for us to treat the feature as numeric, so we are going to remove it."
   ]
  },
  {
   "cell_type": "code",
   "execution_count": null,
   "id": "50489cd5",
   "metadata": {},
   "outputs": [],
   "source": [
    "data_apps[\"Price\"].value_counts()"
   ]
  },
  {
   "cell_type": "code",
   "execution_count": null,
   "id": "2ce1fef3",
   "metadata": {},
   "outputs": [],
   "source": [
    "# Function to remove the \"$\" symbol.\n",
    "def price_to_num(price):\n",
    "    return float(price.replace(\"$\", \"\"))\n",
    "\n",
    "data_apps[\"Price\"] = data_apps[\"Price\"].map(price_to_num)"
   ]
  },
  {
   "cell_type": "code",
   "execution_count": null,
   "id": "676549d7",
   "metadata": {},
   "outputs": [],
   "source": [
    "# Let's see the boxplot of the price (greater that 0)\n",
    "fig, axes = plt.subplots(1,2, figsize=(20,6));\n",
    "sns.boxplot(data=data_apps[data_apps[\"Price\"] > 0], x=\"Price\", ax=axes[0])\n",
    "sns.histplot(data=data_apps, x=data_apps[\"Price\"], ax=axes[1])"
   ]
  },
  {
   "cell_type": "markdown",
   "id": "135c6744",
   "metadata": {},
   "source": [
    "We have some very expensive apps. Looking at the dataset sorted by Price (highest to lowest) we see that those apps over $300 appear to be \"meme\" apps. At least they all seem to have the same spirit.\n",
    "\n",
    "We are going to remove these outliers (those over 299.99)."
   ]
  },
  {
   "cell_type": "code",
   "execution_count": null,
   "id": "9a56c1f2",
   "metadata": {},
   "outputs": [],
   "source": [
    "data_apps.sort_values(by=\"Price\", ascending=False).head(20)"
   ]
  },
  {
   "cell_type": "code",
   "execution_count": null,
   "id": "2e2f1353",
   "metadata": {},
   "outputs": [],
   "source": [
    "# Removing the outliers => those apps with price greater than $200, that are all \"I am rich\" apps variations\n",
    "data_apps = data_apps.drop(data_apps[data_apps[\"Price\"] > 200].index)"
   ]
  },
  {
   "cell_type": "code",
   "execution_count": null,
   "id": "be7ffa3a",
   "metadata": {},
   "outputs": [],
   "source": [
    "# Boxplot without outliers\n",
    "# Most of the apps cost less than $10\n",
    "plt.figure(figsize=(20,6));\n",
    "sns.boxplot(data=data_apps[data_apps[\"Price\"] > 0], x=\"Price\")"
   ]
  },
  {
   "cell_type": "code",
   "execution_count": null,
   "id": "0129d019",
   "metadata": {},
   "outputs": [],
   "source": [
    "# Relation between Price and Rating. We can't observe a clear relationship.\n",
    "plt.figure(figsize=(20,6), dpi=150);\n",
    "sns.barplot(data=data_apps, x=\"Rating\", y=\"Price\")\n",
    "plt.xticks(rotation=90);"
   ]
  },
  {
   "cell_type": "markdown",
   "id": "9c9247e3",
   "metadata": {},
   "source": [
    "Although Last Updated is not numeric, it is ordinal => let's pass it to datetime and see if there is any trend."
   ]
  },
  {
   "cell_type": "code",
   "execution_count": null,
   "id": "76b8347e",
   "metadata": {},
   "outputs": [],
   "source": [
    "data_apps['Last Updated'] = pd.to_datetime(data_apps['Last Updated'], format=\"%d/%m/%Y\")\n",
    "data_apps[\"Last Updated\"] "
   ]
  },
  {
   "cell_type": "code",
   "execution_count": null,
   "id": "5722c739",
   "metadata": {},
   "outputs": [],
   "source": [
    "plt.figure(figsize=(20,6), dpi=200);\n",
    "sns.histplot(data=data_apps, x=\"Last Updated\", kde=True)"
   ]
  },
  {
   "cell_type": "markdown",
   "id": "8190f3be",
   "metadata": {},
   "source": [
    "Let's simplify to checking only the years. We can see that most of the apps were recently updated."
   ]
  },
  {
   "cell_type": "code",
   "execution_count": null,
   "id": "ff5b98f8",
   "metadata": {},
   "outputs": [],
   "source": [
    "data_apps[\"Year Updated\"] = data_apps[\"Last Updated\"].dt.year\n",
    "sns.countplot(data=data_apps, x=\"Year Updated\")"
   ]
  },
  {
   "cell_type": "code",
   "execution_count": null,
   "id": "ab99c23a",
   "metadata": {},
   "outputs": [],
   "source": [
    "# Relation between year of last update and rating of the app.\n",
    "fig, axes = plt.subplots(1, 2, figsize=(20, 6));\n",
    "sns.boxplot(data=data_apps, x=\"Year Updated\", y=\"Rating\", ax=axes[0])\n",
    "sns.violinplot(data=data_apps, x='Year Updated', y='Rating', ax=axes[1])"
   ]
  },
  {
   "cell_type": "markdown",
   "id": "0cfce110",
   "metadata": {},
   "source": [
    "For Current Ver we can see that we have a wide variety of possible versions. Let's simplify this data by using only the first number as the version to get an idea of how the data is distributed."
   ]
  },
  {
   "cell_type": "code",
   "execution_count": null,
   "id": "6d22bcd3",
   "metadata": {},
   "outputs": [],
   "source": [
    "data_apps[\"Current Ver\"].value_counts()\n",
    "#sns.boxplot(x=data_apps[\"Current Ver\"])"
   ]
  },
  {
   "cell_type": "code",
   "execution_count": null,
   "id": "4a3fd434",
   "metadata": {},
   "outputs": [],
   "source": [
    "import re \n",
    "\n",
    "def simplified_app_version(version):\n",
    "    if type(version) != str:\n",
    "        return version\n",
    "    \n",
    "    results = re.findall(r'(\\d)[\\.\\d+]*', version)\n",
    "    if results:\n",
    "        return int(results[0])\n",
    "    else: # All the \"Varies with device\" and the outliers (as \"final\", \"DH-Security Camera\", etc)\n",
    "        return np.NaN\n",
    "\n",
    "data_apps[\"Simplified App Ver\"] = data_apps[\"Current Ver\"].map(simplified_app_version)\n",
    "data_apps[\"Simplified App Ver\"].value_counts()"
   ]
  },
  {
   "cell_type": "code",
   "execution_count": null,
   "id": "2eaf2bc3",
   "metadata": {},
   "outputs": [],
   "source": [
    "# Most of the versions are between 0 and 6. Higher versions are outliers.\n",
    "sns.boxplot(data=data_apps, x=\"Simplified App Ver\")"
   ]
  },
  {
   "cell_type": "code",
   "execution_count": null,
   "id": "f13b62fd",
   "metadata": {},
   "outputs": [],
   "source": [
    "# We completed some versions as \"na\", let's count how many.\n",
    "data_apps[\"Simplified App Ver\"].isna().sum()"
   ]
  },
  {
   "cell_type": "code",
   "execution_count": null,
   "id": "56c70508",
   "metadata": {},
   "outputs": [],
   "source": [
    "# Let's see if the version of the app impacts in the rating. We can't observe any relation between both.\n",
    "sns.regplot(data=data_apps, x=\"Simplified App Ver\", y=\"Rating\") "
   ]
  },
  {
   "cell_type": "code",
   "execution_count": null,
   "id": "d6d8111d",
   "metadata": {},
   "outputs": [],
   "source": [
    "# Relation between version and reviews\n",
    "sns.regplot(data=data_apps, x=\"Simplified App Ver\", y=\"Reviews\")"
   ]
  },
  {
   "cell_type": "markdown",
   "id": "eb010881",
   "metadata": {},
   "source": [
    "We are not going to use the version of the app to predict the Rating. Let's see what happens with the Android version.\n",
    "\n",
    "Here we also have to clean up the data a bit. We are going to simplify the version by using only the first number and assuming that the version implies that it accepts that number and those that follow."
   ]
  },
  {
   "cell_type": "code",
   "execution_count": null,
   "id": "a75b244f",
   "metadata": {},
   "outputs": [],
   "source": [
    "data_apps[\"Android Ver\"].value_counts()"
   ]
  },
  {
   "cell_type": "code",
   "execution_count": null,
   "id": "e936c192",
   "metadata": {},
   "outputs": [],
   "source": [
    "# We can simplify the version using only the first number\n",
    "def simplified_android_version(version):\n",
    "    if type(version) != str:\n",
    "        return version\n",
    "    results = re.findall(r'(\\d+)[\\.\\d+]*', version)\n",
    "    if results:\n",
    "        return int(results[0])\n",
    "    else: # all those that have \"Varies with device\"\n",
    "        return np.NaN\n",
    "\n",
    "data_apps[\"Simplified Android Ver\"] = data_apps[\"Android Ver\"].map(simplified_android_version)"
   ]
  },
  {
   "cell_type": "code",
   "execution_count": null,
   "id": "91b5ceb3",
   "metadata": {},
   "outputs": [],
   "source": [
    "# Most of the apps have android version 4 or higher\n",
    "data_apps[\"Simplified Android Ver\"].value_counts()"
   ]
  },
  {
   "cell_type": "code",
   "execution_count": null,
   "id": "9f1e5817",
   "metadata": {},
   "outputs": [],
   "source": [
    "sns.histplot(data=data_apps, x=\"Simplified Android Ver\", cumulative=True) \n",
    "# cumulative=True given that Simplified Android Ver means that works for that version and higher"
   ]
  },
  {
   "cell_type": "markdown",
   "id": "e732ff47",
   "metadata": {},
   "source": [
    "Let's see if there is a relationship with the Rating. We can see that as the version is higher/newer, the higher the user scores tend to be."
   ]
  },
  {
   "cell_type": "code",
   "execution_count": null,
   "id": "229d8997",
   "metadata": {},
   "outputs": [],
   "source": [
    "sns.boxenplot(data=data_apps, x=\"Simplified Android Ver\", y=\"Rating\") "
   ]
  },
  {
   "cell_type": "code",
   "execution_count": null,
   "id": "3b93b90f",
   "metadata": {},
   "outputs": [],
   "source": [
    "# data_apps[data_apps[\"Simplified Android Ver\"].isna()]"
   ]
  },
  {
   "cell_type": "markdown",
   "id": "7cc6762f",
   "metadata": {},
   "source": [
    "We have some missing values. Let's complete the Android version with the average Android version per year."
   ]
  },
  {
   "cell_type": "code",
   "execution_count": null,
   "id": "91b472aa",
   "metadata": {},
   "outputs": [],
   "source": [
    "group_year_agg_android = data_apps.groupby([\"Year Updated\"]).agg({\"Simplified Android Ver\": [\"mean\"]})\n",
    "group_year_agg_android"
   ]
  },
  {
   "cell_type": "code",
   "execution_count": null,
   "id": "df927dac",
   "metadata": {},
   "outputs": [],
   "source": [
    "def replace_varies_android_ver(row):\n",
    "    if pd.isna(row[\"Simplified Android Ver\"]):\n",
    "        year = row[\"Year Updated\"]\n",
    "        return round(group_year_agg_android.loc[year, (\"Simplified Android Ver\", \"mean\")])\n",
    "    else:\n",
    "        return row[\"Simplified Android Ver\"]\n",
    "    \n",
    "data_apps[\"Simplified Android Ver\"] = data_apps.apply(replace_varies_android_ver, axis=1)"
   ]
  },
  {
   "cell_type": "markdown",
   "id": "1987fcee",
   "metadata": {},
   "source": [
    "Let's see if there are correlations between the numerical variables."
   ]
  },
  {
   "cell_type": "code",
   "execution_count": null,
   "id": "7dc304c7",
   "metadata": {},
   "outputs": [],
   "source": [
    "data_apps.corr()"
   ]
  },
  {
   "cell_type": "code",
   "execution_count": null,
   "id": "abc55cbd",
   "metadata": {},
   "outputs": [],
   "source": [
    "# The strongest correlations are between the number of Installs and Reviews; between Year Updated and Simplified Android View \n",
    "# --which makes sense; and then weaker correlations between Year Updated and Size, and Year Updated and Rating, Size and \n",
    "#Simplified Android Ver.\n",
    "\n",
    "# Price is the one that seems least correlated with the rest.\n",
    "sns.heatmap(data_apps.corr(), cmap=\"Paired\", annot=True)"
   ]
  },
  {
   "cell_type": "markdown",
   "id": "aa9edba5",
   "metadata": {},
   "source": [
    "## Analysis of categorical features <a name=\"categoricalfeatures\"></a>\n",
    "\n",
    "Let's see how categorical features behave and what we should take into account. These features are:\n",
    "- Category\n",
    "- Genres\n",
    "- Type\n",
    "- Content Rating\n",
    "\n",
    "Let's start with the Category and Genres features. Most popular categories: FAMILY, GAME and TOOLS."
   ]
  },
  {
   "cell_type": "code",
   "execution_count": null,
   "id": "789733db",
   "metadata": {},
   "outputs": [],
   "source": [
    "# data_apps[\"Category\"].value_counts()\n",
    "plt.figure(figsize=(20,6), dpi=150)\n",
    "sns.countplot(data=data_apps, x=\"Category\")\n",
    "plt.xticks(rotation=90);"
   ]
  },
  {
   "cell_type": "markdown",
   "id": "20aa9f8c",
   "metadata": {},
   "source": [
    "Let's look at the relationship between Category and Rating, and then look at the top rated categories on average: EVENTS, EDUCATION, ART_AND_DESIGN."
   ]
  },
  {
   "cell_type": "code",
   "execution_count": null,
   "id": "3da3b6f3",
   "metadata": {},
   "outputs": [],
   "source": [
    "plt.figure(figsize=(20,6), dpi=200)\n",
    "sns.boxplot(x=\"Category\", y=\"Rating\", data=data_apps)\n",
    "plt.xticks(rotation=90);"
   ]
  },
  {
   "cell_type": "code",
   "execution_count": null,
   "id": "88fc3e3b",
   "metadata": {},
   "outputs": [],
   "source": [
    "# Let's sort by Category best scored on average.\n",
    "data_apps.groupby([\"Category\"]).agg({\"Rating\": {\"mean\", \"min\", \"max\"}}).sort_values(by=(\"Rating\", \"mean\"), ascending=False)"
   ]
  },
  {
   "cell_type": "markdown",
   "id": "754f6aca",
   "metadata": {},
   "source": [
    "Let's observe Relationship between Category and number of Reviews. Those categories with the highest number of reviews are SOCIAL, COMMUNICATION and GAME."
   ]
  },
  {
   "cell_type": "code",
   "execution_count": null,
   "id": "30019e0a",
   "metadata": {},
   "outputs": [],
   "source": [
    "plt.figure(figsize=(20,6), dpi=200)\n",
    "sns.barplot(x=\"Category\", y=\"Reviews\", data=data_apps)\n",
    "plt.xticks(rotation=90);"
   ]
  },
  {
   "cell_type": "markdown",
   "id": "954cce91",
   "metadata": {},
   "source": [
    "Let's take a look at what happens with the genres of an application. Looking at the possible values of the genres, it seems that they generally share the same value as the category or specify some sub-genre within that category (such as \"Puzzle\" to define some type of game).\n",
    "\n",
    "In \"Genres\" the genres are separated by \";\", and some apps have two genres. We are going to save in other columns the \"Main Genre\" (the first) and the \"Secondary Genre\" (the second)."
   ]
  },
  {
   "cell_type": "code",
   "execution_count": null,
   "id": "2ec63b6d",
   "metadata": {},
   "outputs": [],
   "source": [
    "def get_main_genre(genres):\n",
    "    genres = genres.split(\";\")\n",
    "    return genres[0]\n",
    "    \n",
    "def get_secondary_genre(genres):\n",
    "    genres = genres.split(\";\")\n",
    "    second_g = \"\"\n",
    "    if len(genres) > 1:\n",
    "        return genres[1]\n",
    "        \n",
    "    return \"\"\n",
    "\n",
    "data_apps[\"Main Genre\"] = data_apps[\"Genres\"].apply(get_main_genre)\n",
    "data_apps[\"Secondary Genre\"] = data_apps[\"Genres\"].apply(get_secondary_genre)"
   ]
  },
  {
   "cell_type": "markdown",
   "id": "3d86ed93",
   "metadata": {},
   "source": [
    "We are going to evaluate the number of apps whose Category and Main Genre is the same. More than half of the time, the category coincides with the first assigned gender, so there is duplication of information. But let's see what happens to the ones that don't match."
   ]
  },
  {
   "cell_type": "code",
   "execution_count": null,
   "id": "1118ad4e",
   "metadata": {},
   "outputs": [],
   "source": [
    "def the_same(dataframe):\n",
    "    category = dataframe[\"Category\"].replace(\"_\", \" \").replace(\"AND\",  \"&\").lower()\n",
    "    main_genre = dataframe[\"Main Genre\"].lower()\n",
    "    \n",
    "    return category == main_genre\n",
    "\n",
    "data_apps[\"the_same\"] = data_apps.apply(the_same, axis=1)\n",
    "data_apps[\"the_same\"].value_counts()"
   ]
  },
  {
   "cell_type": "markdown",
   "id": "c9f06e46",
   "metadata": {},
   "source": [
    "For apps whose Category and Main Genre do not match:\n",
    "\n",
    "- In VIDEO_PLAYERS, the genre is Video Players & Editors.\n",
    "- In GAME, genres are game subcategories/genres.\n",
    "- In FAMILY, the genres are very varied."
   ]
  },
  {
   "cell_type": "code",
   "execution_count": null,
   "id": "001aa79b",
   "metadata": {},
   "outputs": [],
   "source": [
    "group = data_apps[~data_apps[\"the_same\"]].groupby([\"Category\", \"Main Genre\"])\n",
    "group.size()"
   ]
  },
  {
   "cell_type": "markdown",
   "id": "d2732997",
   "metadata": {},
   "source": [
    "Let's see if the Main Genre can tell us anything about the ratings.\n",
    "\n",
    "Although \"Events\" is the best punctuated on average (and this was already told us by Category), new information now appears, such as Word and Puzzle very well punctuated (within the \"Game\" Category)."
   ]
  },
  {
   "cell_type": "code",
   "execution_count": null,
   "id": "bbf6520a",
   "metadata": {},
   "outputs": [],
   "source": [
    "plt.figure(figsize=(20,6), dpi=200)\n",
    "sns.boxplot(x=\"Main Genre\", y=\"Rating\", data=data_apps)\n",
    "plt.xticks(rotation=90);"
   ]
  },
  {
   "cell_type": "markdown",
   "id": "2b2fbdc2",
   "metadata": {},
   "source": [
    "Let's see the relationship between the Main Genre and the number of Reviews. We can observe subgenres with many reviews such as Strategy, Arcade, Casual, among others."
   ]
  },
  {
   "cell_type": "code",
   "execution_count": null,
   "id": "4df1732c",
   "metadata": {},
   "outputs": [],
   "source": [
    "plt.figure(figsize=(20,6), dpi=200)\n",
    "sns.barplot(x=\"Main Genre\", y=\"Reviews\", data=data_apps)\n",
    "plt.xticks(rotation=90);"
   ]
  },
  {
   "cell_type": "markdown",
   "id": "e3892ec4",
   "metadata": {},
   "source": [
    "Regarding the Secondary Genre, since only a very small percentage of the data has a secondary genre, we will not use this category."
   ]
  },
  {
   "cell_type": "code",
   "execution_count": null,
   "id": "6db89203",
   "metadata": {},
   "outputs": [],
   "source": [
    "number_rows = 9643\n",
    "print(f\"Percentage of apps without Secondary Genre: {round((len(data_apps[data_apps['Secondary Genre'] == '']) / number_rows) * 100, 2)}%\") \n",
    "print(f\"Percentage of apps with Secondary Genre: {round((len(data_apps[data_apps['Secondary Genre'] != '']) / number_rows) * 100, 2)}%\") \n",
    "\n",
    "#data_apps.groupby([\"Secondary Genre\"]).agg({\"Rating\": {\"mean\", \"min\", \"max\", \"std\"}}).sort_values(by=(\"Rating\", \"mean\"), ascending=False)"
   ]
  },
  {
   "cell_type": "markdown",
   "id": "240c5e79",
   "metadata": {},
   "source": [
    "Now let's see the \"Type\" feature. Most of the apps are free. Paid apps tend to have a slightly better rating than free ones."
   ]
  },
  {
   "cell_type": "code",
   "execution_count": null,
   "id": "a080c0aa",
   "metadata": {},
   "outputs": [],
   "source": [
    "fig, axes = plt.subplots(1, 2, figsize=(20, 6));\n",
    "sns.countplot(data=data_apps, x=\"Type\", ax=axes[0])\n",
    "sns.boxplot(data=data_apps, x=\"Type\", y=\"Rating\", ax=axes[1])"
   ]
  },
  {
   "cell_type": "markdown",
   "id": "ca13953a",
   "metadata": {},
   "source": [
    "Let's now see \"Content Rating\", and its relationship with \"Rating\". Depending on the Content Rating of the operation, some final ratings are better (such as Adults only 18+)."
   ]
  },
  {
   "cell_type": "code",
   "execution_count": null,
   "id": "8bda405e",
   "metadata": {},
   "outputs": [],
   "source": [
    "# data_apps[\"Content Rating\"].value_counts()\n",
    "sns.countplot(x=data_apps[\"Content Rating\"])\n",
    "plt.xticks(rotation=90);"
   ]
  },
  {
   "cell_type": "code",
   "execution_count": null,
   "id": "21917e17",
   "metadata": {},
   "outputs": [],
   "source": [
    "fig, axes = plt.subplots(1, 2, figsize=(20, 6));\n",
    "sns.boxplot(data=data_apps, x=\"Content Rating\", y=\"Rating\", hue=\"Type\", ax=axes[0])\n",
    "sns.violinplot(data=data_apps, x='Content Rating', y='Rating', hue=\"Type\", ax=axes[1])"
   ]
  },
  {
   "cell_type": "code",
   "execution_count": null,
   "id": "80a84843",
   "metadata": {},
   "outputs": [],
   "source": [
    "data_apps[data_apps[\"Content Rating\"] == \"Unrated\"]\n",
    "# data_apps[data_apps[\"Content Rating\"] == \"Adults only 18+\"]"
   ]
  },
  {
   "cell_type": "markdown",
   "id": "e2c52aaa",
   "metadata": {},
   "source": [
    "Let's change the outliers from \"Unrated\" to \"Everyone\" for these two cases."
   ]
  },
  {
   "cell_type": "code",
   "execution_count": null,
   "id": "c354c2cf",
   "metadata": {},
   "outputs": [],
   "source": [
    "data_apps.loc[data_apps[\"Content Rating\"] == \"Unrated\", \"Content Rating\"] = \"Everyone\""
   ]
  },
  {
   "cell_type": "code",
   "execution_count": null,
   "id": "4635d509",
   "metadata": {},
   "outputs": [],
   "source": []
  }
 ],
 "metadata": {
  "kernelspec": {
   "display_name": "Python 3 (ipykernel)",
   "language": "python",
   "name": "python3"
  },
  "language_info": {
   "codemirror_mode": {
    "name": "ipython",
    "version": 3
   },
   "file_extension": ".py",
   "mimetype": "text/x-python",
   "name": "python",
   "nbconvert_exporter": "python",
   "pygments_lexer": "ipython3",
   "version": "3.8.10"
  }
 },
 "nbformat": 4,
 "nbformat_minor": 5
}
